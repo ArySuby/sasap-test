{
  "nbformat": 4,
  "nbformat_minor": 0,
  "metadata": {
    "colab": {
      "provenance": [],
      "authorship_tag": "ABX9TyMnbGs5+bOXGW+8qqfVgi6b",
      "include_colab_link": true
    },
    "kernelspec": {
      "name": "python3",
      "display_name": "Python 3"
    },
    "language_info": {
      "name": "python"
    }
  },
  "cells": [
    {
      "cell_type": "markdown",
      "metadata": {
        "id": "view-in-github",
        "colab_type": "text"
      },
      "source": [
        "<a href=\"https://colab.research.google.com/github/ArySuby/sasap-test/blob/main/TIENDACARS.ipynb\" target=\"_parent\"><img src=\"https://colab.research.google.com/assets/colab-badge.svg\" alt=\"Open In Colab\"/></a>"
      ]
    },
    {
      "cell_type": "code",
      "execution_count": 8,
      "metadata": {
        "colab": {
          "base_uri": "https://localhost:8080/"
        },
        "id": "t7H-qFdsAKgv",
        "outputId": "f97f1797-cb54-429d-f9e5-9164c894a747"
      },
      "outputs": [
        {
          "output_type": "stream",
          "name": "stdout",
          "text": [
            "                                           Título  \\\n",
            "0  Chevrolet Cruze 1.4T Premier AT 5 puertas 2021   \n",
            "\n",
            "                                              Precio      Marca Modelo  \\\n",
            "0  $26,900,000.00El precio indicado puede estar s...  Chevrolet  Cruze   \n",
            "\n",
            "  Combustible pa_sucursal       Color Kilómetros   Año           pa_estado  \n",
            "0       Nafta              Gris Plata      96229  2021  EN VENTA – PROPIOS  \n"
          ]
        }
      ],
      "source": [
        "import requests\n",
        "from bs4 import BeautifulSoup\n",
        "import pandas as pd\n",
        "\n",
        "url = 'https://tiendacars.com/productos/autos-usados/chevrolet-cruze-1-4t-premier-at-5-puertas-2021/'\n",
        "headers = {'User-Agent': 'Mozilla/5.0'}\n",
        "resp = requests.get(url, headers=headers)\n",
        "resp.raise_for_status()\n",
        "\n",
        "soup = BeautifulSoup(resp.content, 'html.parser')\n",
        "\n",
        "titulo = soup.select_one('h1.product_title.entry-title').get_text(strip=True)\n",
        "precio = soup.select_one('p.price').get_text(strip=True)\n",
        "\n",
        "# Extraer atributos de la tabla\n",
        "attrs = {}\n",
        "for row in soup.select('table.shop_attributes tr'):\n",
        "    th = row.find('th').get_text(strip=True)\n",
        "    td = row.find('td').get_text(strip=True)\n",
        "    attrs[th] = td\n",
        "\n",
        "# Organizar en DataFrame\n",
        "df = pd.DataFrame([{\n",
        "    'Título': titulo,\n",
        "    'Precio': precio,\n",
        "    **attrs\n",
        "}])\n",
        "print(df)\n"
      ]
    },
    {
      "cell_type": "code",
      "source": [
        "import requests\n",
        "from bs4 import BeautifulSoup\n",
        "\n",
        "# URL del sitemap index\n",
        "sitemap_index_url = 'https://tiendacars.com/sitemap_index.xml'\n",
        "\n",
        "# Encabezados como navegador\n",
        "headers = {\n",
        "    'User-Agent': 'Mozilla/5.0 (Windows NT 10.0; Win64; x64) AppleWebKit/537.36 (KHTML, like Gecko) Chrome/115.0.0.0 Safari/537.36'\n",
        "}\n",
        "\n",
        "# Hacemos el GET con headers\n",
        "resp = requests.get(sitemap_index_url, headers=headers)\n",
        "resp.raise_for_status()\n",
        "\n",
        "# Parseamos\n",
        "soup = BeautifulSoup(resp.content, 'xml')\n",
        "\n",
        "# Extraemos los sitemaps\n",
        "sitemap_urls = [loc.get_text() for loc in soup.find_all('loc')]\n",
        "print(f'Sitemaps encontrados: {sitemap_urls}')\n"
      ],
      "metadata": {
        "colab": {
          "base_uri": "https://localhost:8080/"
        },
        "id": "KZpEz91FGsCR",
        "outputId": "beca467a-ef37-45fc-86ee-a1110a09a5da"
      },
      "execution_count": 10,
      "outputs": [
        {
          "output_type": "stream",
          "name": "stdout",
          "text": [
            "Sitemaps encontrados: ['https://tiendacars.com/post-sitemap.xml', 'https://tiendacars.com/page-sitemap.xml', 'https://tiendacars.com/product-sitemap.xml', 'https://tiendacars.com/qsm_quiz-sitemap.xml', 'https://tiendacars.com/web-story-sitemap.xml', 'https://tiendacars.com/category-sitemap.xml', 'https://tiendacars.com/product_cat-sitemap.xml', 'https://tiendacars.com/product_tag-sitemap.xml']\n"
          ]
        }
      ]
    },
    {
      "cell_type": "code",
      "source": [
        "import requests\n",
        "from bs4 import BeautifulSoup\n",
        "import pandas as pd\n",
        "import time\n",
        "\n",
        "headers = {\n",
        "    'User-Agent': 'Mozilla/5.0 (Windows NT 10.0; Win64; x64) AppleWebKit/537.36 (KHTML, like Gecko) Chrome/115.0.0.0 Safari/537.36'\n",
        "}\n",
        "\n",
        "# Paso 1: Obtener URLs del sitemap\n",
        "sitemap_url = 'https://tiendacars.com/product-sitemap.xml'\n",
        "resp = requests.get(sitemap_url, headers=headers)\n",
        "resp.raise_for_status()\n",
        "\n",
        "soup = BeautifulSoup(resp.content, 'xml')\n",
        "all_urls = [loc.get_text() for loc in soup.find_all('loc')]\n",
        "\n",
        "# Paso 2: Filtrar URLs para quedarnos solo con productos usados (según patrón de URL)\n",
        "product_urls = [url for url in all_urls if '/productos/autos-usados/' in url]\n",
        "\n",
        "print(f'Total de URLs originales: {len(all_urls)}')\n",
        "print(f'Total de URLs filtradas (productos usados): {len(product_urls)}')\n",
        "\n",
        "datos = []\n",
        "\n",
        "for i, url in enumerate(product_urls, 1):\n",
        "    try:\n",
        "        r = requests.get(url, headers=headers)\n",
        "        r.raise_for_status()\n",
        "        r.encoding = 'utf-8'\n",
        "        s = BeautifulSoup(r.text, 'html.parser')\n",
        "\n",
        "        # Título principal\n",
        "        titulo = s.select_one('h1.product_title.entry-title')\n",
        "        if titulo:\n",
        "            titulo = titulo.get_text(strip=True)\n",
        "        else:\n",
        "            titulo_tag = s.select_one('title')\n",
        "            titulo = titulo_tag.get_text(strip=True) if titulo_tag else 'N/A'\n",
        "\n",
        "        # Precio\n",
        "        precio_tag = s.select_one('p.price')\n",
        "        precio = precio_tag.get_text(strip=True) if precio_tag else 'N/A'\n",
        "\n",
        "        # Limpiar precio a número\n",
        "        precio_num = ''.join(c for c in precio if c.isdigit())\n",
        "\n",
        "        # Atributos\n",
        "        attrs = {}\n",
        "        for row in s.select('table.shop_attributes tr'):\n",
        "            th = row.find('th').get_text(strip=True)\n",
        "            td = row.find('td').get_text(strip=True)\n",
        "            attrs[th] = td\n",
        "\n",
        "        # Validar que título y precio sean válidos para guardar\n",
        "        if titulo != 'N/A' and precio != 'N/A' and precio_num != '':\n",
        "            registro = {'URL': url, 'Título': titulo, 'Precio': precio, 'Precio_Num': precio_num}\n",
        "            registro.update(attrs)\n",
        "            datos.append(registro)\n",
        "            print(f\"[{i}/{len(product_urls)}] {titulo}\")\n",
        "        else:\n",
        "            print(f\"[{i}/{len(product_urls)}] URL descartada por falta de datos: {url}\")\n",
        "\n",
        "        time.sleep(1)\n",
        "\n",
        "    except Exception as e:\n",
        "        print(f\"[{i}] Error procesando {url}: {e}\")\n",
        "\n",
        "df = pd.DataFrame(datos)\n",
        "df.to_csv('tiendacars_autos_filtrado.csv', index=False)\n",
        "print(\"✅ Datos guardados en 'tiendacars_autos_filtrado.csv'\")\n"
      ],
      "metadata": {
        "colab": {
          "base_uri": "https://localhost:8080/"
        },
        "id": "4j5LQg7iL6gV",
        "outputId": "c3978b1d-c6cc-4897-bf78-7f272c8566b1"
      },
      "execution_count": 15,
      "outputs": [
        {
          "output_type": "stream",
          "name": "stdout",
          "text": [
            "Total de URLs originales: 173\n",
            "Total de URLs filtradas (productos usados): 87\n",
            "[1/87] Fiat Cronos Atractive 2023\n",
            "[2/87] Nissan Kicks Exclusive CVT 2024\n",
            "[3/87] Ford Ecosport Titanium 2.0  AT 2020\n",
            "[4/87] Renault Logan Life 2023\n",
            "[5/87] Volkswagen Tiguan Comfortline 2.0TSI DSG 2018\n",
            "[6/87] Fiat Cronos Drive 1.3 Manual 2023\n",
            "[7/87] Volkswagen Taos 1.4 250 TSI Highline AT 2022\n",
            "[8/87] Toyota Yaris XLS 1.5 16V Flex 4 puertas AT 2023\n",
            "[9/87] Toyota Yaris XLS 1.5 16V 4 puertas AT 2023\n",
            "[10/87] Volkswagen Amarok 2.0 TD Comfortline 4×2 AT 180cv 2023\n",
            "[11/87] Fiat Cronos Precision 1.3 CVT 2023\n",
            "[12/87] Chevrolet Onix LS 1.2 12V 5 puertas 2023\n",
            "[13/87] Volkswagen T-Cross Comfortline 2020\n",
            "[14/87] Renault Logan Life 2023\n",
            "[15/87] Volkswagen T-Cross Highline AT 2019\n",
            "[16/87] Nissan X-Trail Exclusive CVT 2018\n",
            "[17/87] Fiat Cronos 1.3 Drive 2024\n",
            "[18/87] Volkswagen Virtus 1.6 Trendline MT 2020\n",
            "[19/87] Renault Captur 2.0 Zen 2018\n",
            "[20/87] Volkswagen Nivus Highline TSI AT 2021\n",
            "[21/87] Volkswagen Vento 1.4 TSI Highline DSG 2018\n",
            "[22/87] Nissan X-Trail Exclusive 2022\n",
            "[23/87] Fiat Cronos Drive GSE CVT 1.3 2022\n",
            "[24/87] Chevrolet Onix Joy 2021\n",
            "[25/87] Chevrolet Onix 1.2 2023\n",
            "[26/87] Toyota Etios XLS 1.5 16V Flex 4 puertas AT 2023\n",
            "[27/87] Peugeot Expert Premium 6 Asientos HDI 2023\n",
            "[28/87] Nissan Frontier Platinum 4×4 AT 2023\n",
            "[29/87] Chevrolet Onix LS 1.2  12V 2023\n",
            "[30/87] Fiat Cronos Like 1.3 2023\n",
            "[31/87] Renault Logan Life 2023\n",
            "[32/87] Jeep Renegade Sport MT 2019\n",
            "[33/87] Volkswagen Nivus Highline AT 2021\n",
            "[34/87] Fiat Palio Attractive 1.4 5 puertas 2017\n",
            "[35/87] Volkswagen Golf 1.4 TSI Bluemotion Techno 2015\n",
            "[36/87] Peugeot 208 Active 1.5 2017\n",
            "[37/87] Chevrolet Onix LS 1.2 12V 4 puertas 2023\n",
            "[38/87] Chevrolet Cruze 1.4T Premier AT 5 puertas 2021\n",
            "[39/87] Fiat Palio Attractive Top 5 puertas 2016\n",
            "[40/87] Citroen C3 1.6 VTI Feel 2021\n",
            "[41/87] Toyota Etios X 5 puertas 2023\n",
            "[42/87] Volkswagen Amarok Highline 4×4 AT 180cv 2022\n",
            "[43/87] Toyota Yaris 1.5 XLS CVT 4 puertas 2023\n",
            "[44/87] Chevrolet Onix LS 1.2 12V 5 puertas 2023\n",
            "[45/87] Ford Ecosport SE 1.5 AT 2018\n",
            "[46/87] Renault Kwid 1.0 Zen 2018\n",
            "[47/87] Ford Ka SEL 5 puertas 2017\n",
            "[48/87] Fiat Mobi Easy 1.0 2017\n",
            "[49/87] Peugeot 207 XS 5 puertas 2010\n",
            "[50/87] Chevrolet Onix Premier AT 2023\n",
            "[51/87] Volkswagen Polo Trendline 2019\n",
            "[52/87] Volkswagen Gol Trend Trendline s/AA 2017\n",
            "[53/87] Volkswagen Amarok Comfortline 4×2 AT 2024\n",
            "[54/87] Volkswagen Suran Trendline c/GNC 2016\n",
            "[55/87] Chevrolet Onix LS 1.2  12V 2023\n",
            "[56/87] Volkswagen Golf Highline 250 DSG 2021\n",
            "[57/87] Volkswagen T-Cross Trendline 1.6 MT 2019\n",
            "[58/87] Fiat Punto Attractive 1.4 2016\n",
            "[59/87] Chevrolet Sonic LTZ MT 2016\n",
            "[60/87] Volkswagen Golf Comfortline 1.4 MT 2018\n",
            "[61/87] Ford Ecosport 1.5 SE GNC 2022\n",
            "[62/87] Chevrolet Onix LS 1.2  12V 2023\n",
            "[63/87] Ford Ka 1.5 SE 5 puertas 2016\n",
            "[64/87] Chevrolet Onix LS 1.2  12V 2023\n",
            "[65/87] Fiat Cronos 1.3 GSE Like 2023\n",
            "[66/87] Toyota Rav 4 4×2 TX CVT 2018\n",
            "[67/87] Nissan Versa Advance AT Pure Drive 2020\n",
            "[68/87] Chevrolet Agile 1.4 LS 5 puertas c/GNC 2016\n",
            "[69/87] Volkswagen Saveiro Comfortline CD MSI MT 2025\n",
            "[70/87] Renault Fluence 2.0 GT 2014\n",
            "[71/87] Chevrolet Onix LTZ 1.0 T 4 puertas AT 2021\n",
            "[72/87] Fiat Cronos 1.3 Precision CVT 2023\n",
            "[73/87] Ford Fiesta Kinetic Design S 2016\n",
            "[74/87] Citroen Cactus Feel Pack AT 2022\n",
            "[75/87] Volkswagen Taos 1.4 250 TSI Highline Tiptronic 2022\n",
            "[76/87] VOLKSWAGEN GOL TREND CONFORTLINE 1.6MSI 5 PTAS 2017\n",
            "[77/87] Chevrolet Tracker 1.8 LTZ + AWD AT 2015\n",
            "[78/87] Peugeot Expert HDI Premium 2022\n",
            "[79/87] Volkswagen Amarok 2.0 TD 4×2 Trendline 140cv 2022\n",
            "[80/87] Fiat 500 1.4 Cult 8V MT 2012\n",
            "[81/87] Peugeot 207 XT Premium 2011\n",
            "[82/87] Peugeot 208 1.5 Allure MT 2013\n",
            "[83/87] Ford Fiesta 1.6 SE MT 5 puertas 2018\n",
            "[84/87] Volkswagen Suran 1.6 Highline 2017\n",
            "[85/87] Nissan Frontier 2.3 S DC 4×2 MT 2022\n",
            "[86/87] Peugeot 208 Active AT 2022\n",
            "[87/87] Peugeot 408 Allure 1.6 2017\n",
            "✅ Datos guardados en 'tiendacars_autos_filtrado.csv'\n"
          ]
        }
      ]
    },
    {
      "cell_type": "code",
      "source": [
        "import pandas as pd\n",
        "\n",
        "df = pd.read_csv('tiendacars_autos_filtrado.csv')"
      ],
      "metadata": {
        "id": "xH-fbacjM-Kt"
      },
      "execution_count": 95,
      "outputs": []
    },
    {
      "cell_type": "code",
      "source": [
        "def categoria_km(km):\n",
        "    try:\n",
        "        km = float(km)\n",
        "        if km < 50000:\n",
        "            return '< 50,000 km'\n",
        "        elif 50000 <= km <= 100000:\n",
        "            return '50,000 - 100,000 km'\n",
        "        else:\n",
        "            return '> 100,000 km'\n",
        "    except:\n",
        "        return 'Sin dato'\n",
        "\n",
        "df['Km_Categoria'] = df['Kilómetros'].apply(categoria_km)\n"
      ],
      "metadata": {
        "id": "SWT2AIkvNCiX"
      },
      "execution_count": 97,
      "outputs": []
    },
    {
      "cell_type": "code",
      "source": [
        "agrupado = df.groupby(['Marca', 'Modelo', 'Km_Categoria']).size().reset_index(name='Cantidad')\n",
        "\n",
        "print(agrupado.head(10))"
      ],
      "metadata": {
        "colab": {
          "base_uri": "https://localhost:8080/"
        },
        "id": "nt-1NU5tNOGA",
        "outputId": "af4707dd-c3e4-40cc-d1b8-f809c2d03512"
      },
      "execution_count": 98,
      "outputs": [
        {
          "output_type": "stream",
          "name": "stdout",
          "text": [
            "       Marca   Modelo         Km_Categoria  Cantidad\n",
            "0  Chevrolet    Agile         > 100,000 km         1\n",
            "1  Chevrolet    Cruze  50,000 - 100,000 km         1\n",
            "2  Chevrolet     Onix  50,000 - 100,000 km        10\n",
            "3  Chevrolet     Onix          < 50,000 km         1\n",
            "4  Chevrolet    Sonic  50,000 - 100,000 km         1\n",
            "5  Chevrolet  Tracker         > 100,000 km         1\n",
            "6    Citroën       C3  50,000 - 100,000 km         1\n",
            "7    Citroën   Cactus  50,000 - 100,000 km         1\n",
            "8       Fiat      500         > 100,000 km         1\n",
            "9       Fiat   Cronos  50,000 - 100,000 km         4\n"
          ]
        }
      ]
    },
    {
      "cell_type": "code",
      "source": [
        "# Ordenar de mayor a menor\n",
        "total_por_marca_ordenado = total_por_marca.sort_values(by='Cantidad', ascending=False)\n",
        "\n",
        "import seaborn as sns\n",
        "import matplotlib.pyplot as plt\n",
        "\n",
        "plt.figure(figsize=(10,6))\n",
        "sns.barplot(\n",
        "    data=total_por_marca_ordenado,\n",
        "    x='Marca',\n",
        "    y='Cantidad',\n",
        "    errorbar=None,\n",
        "    order=total_por_marca_ordenado['Marca']  # orden explícito\n",
        ")\n",
        "plt.title('Cantidad total de autos por Marca (ordenado)')\n",
        "plt.xticks(rotation=45)\n",
        "plt.show()\n"
      ],
      "metadata": {
        "colab": {
          "base_uri": "https://localhost:8080/",
          "height": 618
        },
        "id": "ZOUBqB6wNbNj",
        "outputId": "0baf6aaf-016f-4920-8b80-7d9386edc356"
      },
      "execution_count": 99,
      "outputs": [
        {
          "output_type": "display_data",
          "data": {
            "text/plain": [
              "<Figure size 1000x600 with 1 Axes>"
            ],
            "image/png": "[encoded data removed]"
          },
          "metadata": {}
        }
      ]
    },
    {
      "cell_type": "code",
      "source": [
        "import pandas as pd\n",
        "import numpy as np\n",
        "import re\n",
        "\n",
        "def limpiar_precio(precio_str):\n",
        "    if pd.isna(precio_str):\n",
        "        return np.nan\n",
        "    match = re.search(r'[\\d,]+\\.\\d{2}', precio_str)\n",
        "    if not match:\n",
        "        return np.nan\n",
        "    precio_num = match.group()\n",
        "    precio_num = precio_num.replace(',', '')\n",
        "    try:\n",
        "        return int(float(precio_num))\n",
        "    except:\n",
        "        return np.nan\n",
        "\n",
        "# Aplicar la función\n",
        "df['Precio_Num'] = df['Precio'].apply(limpiar_precio)\n",
        "\n",
        "print(df[['Precio', 'Precio_Num']].head(50))\n",
        "\n"
      ],
      "metadata": {
        "colab": {
          "base_uri": "https://localhost:8080/"
        },
        "id": "3SW29YPfPHhT",
        "outputId": "6dc7ff4a-35a3-44b1-ad14-126ff7e5b3ac"
      },
      "execution_count": 100,
      "outputs": [
        {
          "output_type": "stream",
          "name": "stdout",
          "text": [
            "                                               Precio  Precio_Num\n",
            "0   $20,500,000.00El precio indicado puede estar s...    20500000\n",
            "1   $37,000,000.00El precio indicado puede estar s...    37000000\n",
            "2   $25,500,000.00El precio indicado puede estar s...    25500000\n",
            "3   $20,500,000.00El precio indicado puede estar s...    20500000\n",
            "4   $34,900,000.00El precio indicado puede estar s...    34900000\n",
            "5   $21,000,000.00El precio indicado puede estar s...    21000000\n",
            "6   $39,000,000.00El precio indicado puede estar s...    39000000\n",
            "7   $24,900,000.00El precio indicado puede estar s...    24900000\n",
            "8   $25,900,000.00El precio indicado puede estar s...    25900000\n",
            "9   $39,000,000.00El precio indicado puede estar s...    39000000\n",
            "10  $24,000,000.00El precio indicado puede estar s...    24000000\n",
            "11  $19,700,000.00El precio indicado puede estar s...    19700000\n",
            "12  $25,100,000.00El precio indicado puede estar s...    25100000\n",
            "13  $20,500,000.00El precio indicado puede estar s...    20500000\n",
            "14  $27,000,000.00El precio indicado puede estar s...    27000000\n",
            "15  $36,000,000.00El precio indicado puede estar s...    36000000\n",
            "16  $22,500,000.00El precio indicado puede estar s...    22500000\n",
            "17  $23,000,000.00El precio indicado puede estar s...    23000000\n",
            "18  $20,000,000.00El precio indicado puede estar s...    20000000\n",
            "19  $28,000,000.00El precio indicado puede estar s...    28000000\n",
            "20  $26,000,000.00El precio indicado puede estar s...    26000000\n",
            "21  $49,000,000.00El precio indicado puede estar s...    49000000\n",
            "22  $19,500,000.00El precio indicado puede estar s...    19500000\n",
            "23  $18,000,000.00El precio indicado puede estar s...    18000000\n",
            "24  $20,500,000.00El precio indicado puede estar s...    20500000\n",
            "25  $23,000,000.00El precio indicado puede estar s...    23000000\n",
            "26  $38,000,000.00El precio original era: $38,000,...    38000000\n",
            "27  $44,000,000.00El precio original era: $44,000,...    44000000\n",
            "28  $20,300,000.00El precio indicado puede estar s...    20300000\n",
            "29  $20,500,000.00El precio indicado puede estar s...    20500000\n",
            "30  $20,500,000.00El precio indicado puede estar s...    20500000\n",
            "31  $22,600,000.00El precio indicado puede estar s...    22600000\n",
            "32  $28,500,000.00El precio indicado puede estar s...    28500000\n",
            "33  $15,000,000.00El precio indicado puede estar s...    15000000\n",
            "34  $19,500,000.00El precio indicado puede estar s...    19500000\n",
            "35  $15,900,000.00El precio indicado puede estar s...    15900000\n",
            "36  $20,500,000.00El precio indicado puede estar s...    20500000\n",
            "37  $26,900,000.00El precio indicado puede estar s...    26900000\n",
            "38  $14,500,000.00El precio indicado puede estar s...    14500000\n",
            "39  $19,900,000.00El precio indicado puede estar s...    19900000\n",
            "40  $20,500,000.00El precio indicado puede estar s...    20500000\n",
            "41  $45,000,000.00El precio indicado puede estar s...    45000000\n",
            "42  $25,000,000.00El precio indicado puede estar s...    25000000\n",
            "43  $19,900,000.00El precio indicado puede estar s...    19900000\n",
            "44  $16,500,000.00El precio indicado puede estar s...    16500000\n",
            "45  $13,200,000.00El precio indicado puede estar s...    13200000\n",
            "46  $16,000,000.00El precio indicado puede estar s...    16000000\n",
            "47  $14,500,000.00El precio indicado puede estar s...    14500000\n",
            "48  $9,500,000.00El precio indicado puede estar su...     9500000\n",
            "49  $24,900,000.00El precio indicado puede estar s...    24900000\n"
          ]
        }
      ]
    },
    {
      "cell_type": "code",
      "source": [
        "import pandas as pd\n",
        "import numpy as np\n",
        "\n",
        "# Cargar el dataset limpio (ajustá el path)\n",
        "df = pd.read_csv('tiendacars_autos_filtrado.csv')\n",
        "\n",
        "# Limpiar y convertir el precio a numérico\n",
        "df['Precio_Num'] = df['Precio_Num'].apply(pd.to_numeric, errors='coerce')\n",
        "\n",
        "# Revisar datos nulos en precio y variables importantes\n",
        "print(df[['Precio_Num', 'Marca', 'Modelo', 'Kilómetros', 'Año', 'Combustible']].info())\n",
        "\n",
        "# Eliminar filas con precio nulo\n",
        "df = df.dropna(subset=['Precio_Num'])\n",
        "\n",
        "# Para simplificar, también podés eliminar filas con nulos en variables que usarás\n",
        "df = df.dropna(subset=['Marca', 'Modelo', 'Kilómetros', 'Año', 'Combustible'])\n"
      ],
      "metadata": {
        "colab": {
          "base_uri": "https://localhost:8080/"
        },
        "id": "faEB7hptPcVU",
        "outputId": "567ca5fc-f35f-41fa-e6a7-d983c101dde3"
      },
      "execution_count": 101,
      "outputs": [
        {
          "output_type": "stream",
          "name": "stdout",
          "text": [
            "<class 'pandas.core.frame.DataFrame'>\n",
            "RangeIndex: 87 entries, 0 to 86\n",
            "Data columns (total 6 columns):\n",
            " #   Column       Non-Null Count  Dtype  \n",
            "---  ------       --------------  -----  \n",
            " 0   Precio_Num   87 non-null     float64\n",
            " 1   Marca        87 non-null     object \n",
            " 2   Modelo       87 non-null     object \n",
            " 3   Kilómetros   87 non-null     int64  \n",
            " 4   Año          87 non-null     int64  \n",
            " 5   Combustible  86 non-null     object \n",
            "dtypes: float64(1), int64(2), object(3)\n",
            "memory usage: 4.2+ KB\n",
            "None\n"
          ]
        }
      ]
    },
    {
      "cell_type": "code",
      "source": [
        "df.loc[26, 'Precio_Num'] = 37000000\n",
        "df.loc[27, 'Precio_Num'] = 42900000"
      ],
      "metadata": {
        "id": "Z7ZheM9yYUQL"
      },
      "execution_count": 102,
      "outputs": []
    },
    {
      "cell_type": "code",
      "source": [
        "# Dummies\n",
        "df_encoded = pd.get_dummies(df, columns=['Marca', 'Modelo', 'Combustible'], drop_first=True)\n",
        "\n",
        "# Target\n",
        "y = df_encoded['Precio_Num']\n",
        "\n",
        "# Predictoras\n",
        "X = df_encoded.drop(columns=['Precio_Num'])\n",
        "\n",
        "X = df_encoded.drop(columns=[\n",
        "    'Precio_Num', 'URL', 'Título', 'Precio', 'pa_sucursal', 'Color', 'pa_estado'\n",
        "])"
      ],
      "metadata": {
        "id": "pblV9e9HPxDn"
      },
      "execution_count": 103,
      "outputs": []
    },
    {
      "cell_type": "code",
      "source": [
        "X = X.astype(int)\n"
      ],
      "metadata": {
        "id": "wDq7ww14VPMn"
      },
      "execution_count": 104,
      "outputs": []
    },
    {
      "cell_type": "code",
      "source": [
        "print(X.columns)\n"
      ],
      "metadata": {
        "colab": {
          "base_uri": "https://localhost:8080/"
        },
        "id": "jF4B__XmUsnK",
        "outputId": "190975e4-5ecc-47b8-f9d6-de012c793b41"
      },
      "execution_count": 105,
      "outputs": [
        {
          "output_type": "stream",
          "name": "stdout",
          "text": [
            "Index(['Kilómetros', 'Año', 'Marca_Citroën', 'Marca_Fiat', 'Marca_Ford',\n",
            "       'Marca_Jeep', 'Marca_Nissan', 'Marca_Peugeot', 'Marca_Renault',\n",
            "       'Marca_Toyota', 'Marca_Volkswagen', 'Modelo_208', 'Modelo_408',\n",
            "       'Modelo_500', 'Modelo_Agile', 'Modelo_Amarok', 'Modelo_C3',\n",
            "       'Modelo_Cactus', 'Modelo_Captur', 'Modelo_Cronos', 'Modelo_Cruze',\n",
            "       'Modelo_EXPERT', 'Modelo_Ecosport', 'Modelo_Etios', 'Modelo_Fiesta',\n",
            "       'Modelo_Fluence', 'Modelo_Frontier', 'Modelo_Gol trend', 'Modelo_Golf',\n",
            "       'Modelo_KA', 'Modelo_Kicks', 'Modelo_Kwid', 'Modelo_Logan',\n",
            "       'Modelo_Mobi', 'Modelo_Nivus', 'Modelo_Onix', 'Modelo_Palio',\n",
            "       'Modelo_Polo', 'Modelo_Punto', 'Modelo_Rav 4', 'Modelo_Renegade',\n",
            "       'Modelo_Saveiro', 'Modelo_Sonic', 'Modelo_Suran', 'Modelo_T-Cross',\n",
            "       'Modelo_Taos', 'Modelo_Tiguan', 'Modelo_Tracker', 'Modelo_Vento',\n",
            "       'Modelo_Versa', 'Modelo_Virtus', 'Modelo_X-trail', 'Modelo_Yaris',\n",
            "       'Combustible_GNC', 'Combustible_Nafta'],\n",
            "      dtype='object')\n"
          ]
        }
      ]
    },
    {
      "cell_type": "code",
      "source": [
        "import numpy as np\n",
        "from sklearn.linear_model import LinearRegression\n",
        "from sklearn.metrics import mean_squared_error, r2_score\n",
        "from sklearn.model_selection import train_test_split\n",
        "from sklearn.preprocessing import StandardScaler\n",
        "\n",
        "# 1. Crear antigüedad\n",
        "anio_actual = 2025\n",
        "df['Antiguedad'] = anio_actual - df['Año']\n",
        "\n",
        "# 2. Variable objetivo log del precio\n",
        "df['Precio_Log'] = np.log(df['Precio_Num'])\n",
        "\n",
        "# 3. Codificación dummies\n",
        "df_encoded = pd.get_dummies(df, columns=['Marca', 'Modelo', 'Combustible'], drop_first=True)\n",
        "\n",
        "# 4. Definir X e y\n",
        "cols_drop = ['Precio_Num', 'URL', 'Título', 'Precio', 'pa_sucursal', 'Color', 'pa_estado', 'Año']\n",
        "X = df_encoded.drop(columns=cols_drop)\n",
        "y = df_encoded['Precio_Log']\n",
        "\n",
        "# 5. Dividir datos\n",
        "X_train, X_test, y_train, y_test = train_test_split(X, y, test_size=0.5, random_state=42)\n",
        "\n",
        "# 6. Escalar columnas numéricas\n",
        "cols_num = ['Kilómetros', 'Antiguedad']\n",
        "scaler = StandardScaler()\n",
        "X_train[cols_num] = scaler.fit_transform(X_train[cols_num])\n",
        "X_test[cols_num] = scaler.transform(X_test[cols_num])\n",
        "\n",
        "# 7. Entrenar modelo\n",
        "model = LinearRegression()\n",
        "model.fit(X_train, y_train)\n",
        "\n",
        "# 8. Predecir y evaluar\n",
        "y_pred = model.predict(X_test)\n",
        "mse = mean_squared_error(y_test, y_pred)\n",
        "rmse = np.sqrt(mse)\n",
        "r2 = r2_score(y_test, y_pred)\n",
        "\n",
        "print(f\"RMSE (log scale): {rmse:.3f}\")\n",
        "print(f\"R2: {r2:.3f}\")\n"
      ],
      "metadata": {
        "colab": {
          "base_uri": "https://localhost:8080/"
        },
        "id": "o-VYrNxhaW4d",
        "outputId": "ef7144e7-e2d9-4dba-d093-4d9906ddffdd"
      },
      "execution_count": 110,
      "outputs": [
        {
          "output_type": "stream",
          "name": "stdout",
          "text": [
            "RMSE (log scale): 0.000\n",
            "R2: 1.000\n"
          ]
        }
      ]
    },
    {
      "cell_type": "code",
      "source": [
        "from sklearn.ensemble import RandomForestRegressor\n",
        "\n",
        "rf = RandomForestRegressor(random_state=42, n_estimators=100)\n",
        "rf.fit(X_train, y_train)\n",
        "\n",
        "y_pred_rf = rf.predict(X_test)\n",
        "\n",
        "mse_rf = mean_squared_error(y_test, y_pred_rf)\n",
        "rmse_rf = np.sqrt(mse_rf)\n",
        "r2_rf = r2_score(y_test, y_pred_rf)\n",
        "\n",
        "print(f\"Random Forest RMSE (log scale): {rmse_rf:.3f}\")\n",
        "print(f\"Random Forest R2: {r2_rf:.3f}\")\n"
      ],
      "metadata": {
        "colab": {
          "base_uri": "https://localhost:8080/"
        },
        "id": "8c_1_9yDcmzv",
        "outputId": "0763b027-9827-4832-c14c-0ed58547bbd3"
      },
      "execution_count": 109,
      "outputs": [
        {
          "output_type": "stream",
          "name": "stdout",
          "text": [
            "Random Forest RMSE (log scale): 0.117\n",
            "Random Forest R2: 0.808\n"
          ]
        }
      ]
    }
  ]
}