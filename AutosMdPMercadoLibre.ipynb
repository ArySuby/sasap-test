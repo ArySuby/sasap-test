{
  "nbformat": 4,
  "nbformat_minor": 0,
  "metadata": {
    "colab": {
      "provenance": [],
      "authorship_tag": "ABX9TyM2r86Mxg/CietaYJSf/o19",
      "include_colab_link": true
    },
    "kernelspec": {
      "name": "python3",
      "display_name": "Python 3"
    },
    "language_info": {
      "name": "python"
    }
  },
  "cells": [
    {
      "cell_type": "markdown",
      "metadata": {
        "id": "view-in-github",
        "colab_type": "text"
      },
      "source": [
        "<a href=\"https://colab.research.google.com/github/ArySuby/sasap-test/blob/main/AutosMdPMercadoLibre.ipynb\" target=\"_parent\"><img src=\"https://colab.research.google.com/assets/colab-badge.svg\" alt=\"Open In Colab\"/></a>"
      ]
    },
    {
      "cell_type": "code",
      "source": [
        "!pip install beautifulsoup4\n"
      ],
      "metadata": {
        "colab": {
          "base_uri": "https://localhost:8080/"
        },
        "id": "IySKmGhPFB9V",
        "outputId": "65053528-80bd-4316-c085-318afcf33f71"
      },
      "execution_count": 55,
      "outputs": [
        {
          "output_type": "stream",
          "name": "stdout",
          "text": [
            "Requirement already satisfied: beautifulsoup4 in /usr/local/lib/python3.11/dist-packages (4.13.4)\n",
            "Requirement already satisfied: soupsieve>1.2 in /usr/local/lib/python3.11/dist-packages (from beautifulsoup4) (2.7)\n",
            "Requirement already satisfied: typing-extensions>=4.0.0 in /usr/local/lib/python3.11/dist-packages (from beautifulsoup4) (4.14.0)\n"
          ]
        }
      ]
    },
    {
      "cell_type": "code",
      "source": [
        "!pip install playwright\n",
        "!playwright install chromium\n"
      ],
      "metadata": {
        "colab": {
          "base_uri": "https://localhost:8080/"
        },
        "collapsed": true,
        "id": "zi2HkZrUFY13",
        "outputId": "f0e8c1f2-1f74-4f3b-e01a-247361b158e6"
      },
      "execution_count": 56,
      "outputs": [
        {
          "output_type": "stream",
          "name": "stdout",
          "text": [
            "Requirement already satisfied: playwright in /usr/local/lib/python3.11/dist-packages (1.53.0)\n",
            "Requirement already satisfied: pyee<14,>=13 in /usr/local/lib/python3.11/dist-packages (from playwright) (13.0.0)\n",
            "Requirement already satisfied: greenlet<4.0.0,>=3.1.1 in /usr/local/lib/python3.11/dist-packages (from playwright) (3.2.3)\n",
            "Requirement already satisfied: typing-extensions in /usr/local/lib/python3.11/dist-packages (from pyee<14,>=13->playwright) (4.14.0)\n"
          ]
        }
      ]
    },
    {
      "cell_type": "code",
      "source": [
        "import asyncio\n",
        "import nest_asyncio\n",
        "from playwright.async_api import async_playwright\n",
        "import pandas as pd\n",
        "import requests\n",
        "\n",
        "nest_asyncio.apply()\n",
        "\n",
        "# 🔹 Obtener dólar oficial\n",
        "def obtener_dolar_oficial():\n",
        "    try:\n",
        "        url = \"https://api.bluelytics.com.ar/v2/latest\"\n",
        "        resp = requests.get(url, timeout=10)\n",
        "        data = resp.json()\n",
        "        oficial = data.get(\"oficial\") or data.get(\"official\")\n",
        "        if oficial and \"value_sell\" in oficial:\n",
        "            return float(oficial[\"value_sell\"])\n",
        "    except Exception as e:\n",
        "        print(f\"Error al obtener dólar oficial Bluelytics: {e}\")\n",
        "    return None\n",
        "\n",
        "# 🔹 Scraping paginado por _Desde_N\n",
        "async def scrapear_autos():\n",
        "    base_url = \"https://autos.mercadolibre.com.ar/bsas-costa-atlantica/mar-del-plata/usados/_Desde_{}\"\n",
        "    autos = []\n",
        "    offset = 0\n",
        "    page_size = 48\n",
        "\n",
        "    async with async_playwright() as pw:\n",
        "        browser = await pw.chromium.launch(headless=True)\n",
        "        page = await browser.new_page()\n",
        "\n",
        "        while True:\n",
        "            print(f\"Scrapeando página con offset {offset}...\")\n",
        "            url = base_url.format(offset)\n",
        "            await page.goto(url, wait_until='domcontentloaded')\n",
        "            await page.wait_for_timeout(3000)\n",
        "\n",
        "            items = await page.query_selector_all(\"li.ui-search-layout__item\")\n",
        "            if not items:\n",
        "                break  # fin de resultados\n",
        "\n",
        "            for el in items:\n",
        "                try:\n",
        "                    title = await el.eval_on_selector(\"h2, h3\", \"e => e.textContent.trim()\")\n",
        "                    num = await el.eval_on_selector(\"span.andes-money-amount__fraction\", \"e => e.textContent.trim()\")\n",
        "                    sym = await el.eval_on_selector(\"span.andes-money-amount__currency-symbol\", \"e => e.textContent.trim()\")\n",
        "                except:\n",
        "                    continue\n",
        "\n",
        "                attrs = await el.query_selector_all(\"ul.poly-attributes_list li\")\n",
        "                year = km = None\n",
        "                for at in attrs:\n",
        "                    txt = (await at.inner_text()).strip()\n",
        "                    if txt.isdigit() and len(txt) == 4:\n",
        "                        year = txt\n",
        "                    elif \"km\" in txt.lower():\n",
        "                        km = txt\n",
        "\n",
        "                marca = title.split()[0]\n",
        "                modelo = \" \".join(title.split()[1:])\n",
        "\n",
        "                autos.append({\n",
        "                    \"marca\": marca,\n",
        "                    \"modelo\": modelo,\n",
        "                    \"año\": year,\n",
        "                    \"kilometraje\": km,\n",
        "                    \"precio_orig\": int(num.replace(\".\", \"\")),\n",
        "                    \"moneda\": sym\n",
        "                })\n",
        "\n",
        "            offset += page_size  # siguiente página\n",
        "\n",
        "        await browser.close()\n",
        "    return autos\n",
        "\n",
        "# 🔹 Ejecutar todo\n",
        "autos = asyncio.get_event_loop().run_until_complete(scrapear_autos())\n",
        "\n",
        "dolar_oficial = obtener_dolar_oficial()\n",
        "print(f\"Dólar oficial (venta, BNA vía Bluelytics): {dolar_oficial}\")\n",
        "\n",
        "# Normalizar precios\n",
        "for auto in autos:\n",
        "    if auto[\"moneda\"] == \"US$\":\n",
        "        auto[\"precio_usd\"] = auto[\"precio_orig\"]\n",
        "    elif auto[\"moneda\"] == \"$\" and dolar_oficial:\n",
        "        auto[\"precio_usd\"] = round(auto[\"precio_orig\"] / dolar_oficial, 2)\n",
        "    else:\n",
        "        auto[\"precio_usd\"] = None\n",
        "\n",
        "# 🔹 Guardar CSV\n",
        "df = pd.DataFrame(autos)\n",
        "df.to_csv(\"autos_ml_mar_del_plata_usd.csv\", index=False)\n",
        "print(f\"✅ Total autos scrapeados: {len(df)}\")\n",
        "print(df.head())\n"
      ],
      "metadata": {
        "colab": {
          "base_uri": "https://localhost:8080/"
        },
        "id": "g4v0p_rCaFdm",
        "outputId": "d0334c3b-9644-47c5-cdc2-eacb7e49ef97"
      },
      "execution_count": 70,
      "outputs": [
        {
          "output_type": "stream",
          "name": "stdout",
          "text": [
            "Scrapeando página con offset 0...\n",
            "Scrapeando página con offset 48...\n",
            "Scrapeando página con offset 96...\n",
            "Scrapeando página con offset 144...\n",
            "Scrapeando página con offset 192...\n",
            "Scrapeando página con offset 240...\n",
            "Scrapeando página con offset 288...\n",
            "Scrapeando página con offset 336...\n",
            "Scrapeando página con offset 384...\n",
            "Scrapeando página con offset 432...\n",
            "Scrapeando página con offset 480...\n",
            "Scrapeando página con offset 528...\n",
            "Scrapeando página con offset 576...\n",
            "Scrapeando página con offset 624...\n",
            "Scrapeando página con offset 672...\n",
            "Scrapeando página con offset 720...\n",
            "Scrapeando página con offset 768...\n",
            "Scrapeando página con offset 816...\n",
            "Scrapeando página con offset 864...\n",
            "Scrapeando página con offset 912...\n",
            "Scrapeando página con offset 960...\n",
            "Scrapeando página con offset 1008...\n",
            "Scrapeando página con offset 1056...\n",
            "Scrapeando página con offset 1104...\n",
            "Scrapeando página con offset 1152...\n",
            "Scrapeando página con offset 1200...\n",
            "Scrapeando página con offset 1248...\n",
            "Scrapeando página con offset 1296...\n",
            "Scrapeando página con offset 1344...\n",
            "Scrapeando página con offset 1392...\n",
            "Scrapeando página con offset 1440...\n",
            "Scrapeando página con offset 1488...\n",
            "Scrapeando página con offset 1536...\n",
            "Scrapeando página con offset 1584...\n",
            "Scrapeando página con offset 1632...\n",
            "Scrapeando página con offset 1680...\n",
            "Scrapeando página con offset 1728...\n",
            "Scrapeando página con offset 1776...\n",
            "Scrapeando página con offset 1824...\n",
            "Scrapeando página con offset 1872...\n",
            "Scrapeando página con offset 1920...\n",
            "Scrapeando página con offset 1968...\n",
            "Scrapeando página con offset 2016...\n",
            "Dólar oficial (venta, BNA vía Bluelytics): 1218.0\n",
            "✅ Total autos scrapeados: 2016\n",
            "           marca                                     modelo   año kilometraje  \\\n",
            "0        Renault                   Captur 2.0 Intens Manual  2017   80.000 Km   \n",
            "1  Mercedes-benz  Clase Glk 3.0 Glk300 4matic City 231cv At  2013  155.000 Km   \n",
            "2         Toyota                     Etios 1.5 Sedan Xls At  2019   90.000 Km   \n",
            "3  Mercedes-benz             Clase Glc Glc 300 Coupé 4matic  2017   80.000 Km   \n",
            "4           Ford                  Focus Iii 2.0 Se Plus At6  2015   90.000 Km   \n",
            "\n",
            "   precio_orig moneda  precio_usd  \n",
            "0     21000000      $    17241.38  \n",
            "1        19900    US$    19900.00  \n",
            "2     20000000      $    16420.36  \n",
            "3        59900    US$    59900.00  \n",
            "4     17300000      $    14203.61  \n"
          ]
        }
      ]
    },
    {
      "cell_type": "code",
      "source": [
        "import pandas as pd\n",
        "\n",
        "# Leer el CSV limpio previo\n",
        "df = pd.read_csv(\"autos_ml_mar_del_plata_clean.csv\")\n",
        "\n",
        "# Convertir columnas a tipo adecuado\n",
        "df[\"año\"] = pd.to_numeric(df[\"año\"], errors=\"coerce\")\n",
        "\n",
        "# Extraer números del kilometraje y convertir a int\n",
        "df[\"kilometraje\"] = df[\"kilometraje\"].str.replace(\".\", \"\", regex=False)  # sacamos puntos\n",
        "df[\"kilometraje\"] = pd.to_numeric(df[\"kilometraje\"].str.extract(r\"(\\d+)\")[0], errors=\"coerce\")\n",
        "\n",
        "# Convertir precio_usd a num (por si acaso)\n",
        "df[\"precio_usd\"] = pd.to_numeric(df[\"precio_usd\"], errors=\"coerce\")\n",
        "\n",
        "# Aplicar filtros\n",
        "df_filtrado = df[\n",
        "    (df[\"año\"] >= 2010) &\n",
        "    (df[\"año\"] <= 2025) &\n",
        "    (df[\"kilometraje\"] > 0) &\n",
        "    (df[\"precio_usd\"] >= 3000) &\n",
        "    (df[\"precio_usd\"] <= 60000)\n",
        "].copy()\n",
        "\n",
        "# Guardar nuevo CSV\n",
        "df_filtrado.to_csv(\"autos_ml_mar_del_plata_usd_filtrado.csv\", index=False)\n",
        "\n",
        "print(f\"Autos después de filtrar: {len(df_filtrado)}\")\n",
        "print(df_filtrado.head())\n"
      ],
      "metadata": {
        "colab": {
          "base_uri": "https://localhost:8080/"
        },
        "id": "d4uxSSemf23V",
        "outputId": "3f097544-eda4-4adc-8273-6695ce04184a"
      },
      "execution_count": 75,
      "outputs": [
        {
          "output_type": "stream",
          "name": "stdout",
          "text": [
            "Autos después de filtrar: 1788\n",
            "           marca                                     modelo     año  \\\n",
            "0        Renault                   Captur 2.0 Intens Manual  2017.0   \n",
            "1  Mercedes-benz  Clase Glk 3.0 Glk300 4matic City 231cv At  2013.0   \n",
            "2         Toyota                     Etios 1.5 Sedan Xls At  2019.0   \n",
            "3  Mercedes-benz             Clase Glc Glc 300 Coupé 4matic  2017.0   \n",
            "4           Ford                  Focus Iii 2.0 Se Plus At6  2015.0   \n",
            "\n",
            "   kilometraje  precio_orig moneda  precio_usd  kilometraje_num  \n",
            "0        80000     21000000      $    17241.38            80000  \n",
            "1       155000        19900    US$    19900.00           155000  \n",
            "2        90000     20000000      $    16420.36            90000  \n",
            "3        80000        59900    US$    59900.00            80000  \n",
            "4        90000     17300000      $    14203.61            90000  \n"
          ]
        }
      ]
    }
  ]
}